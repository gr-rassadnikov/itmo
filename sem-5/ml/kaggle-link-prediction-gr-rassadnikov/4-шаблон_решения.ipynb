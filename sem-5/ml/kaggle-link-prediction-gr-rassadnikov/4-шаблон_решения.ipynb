{
 "cells": [
  {
   "cell_type": "code",
   "execution_count": 1,
   "id": "4a88b293-0966-4d26-bc67-c0ab7e90cf7f",
   "metadata": {},
   "outputs": [],
   "source": [
    "import pandas as pd\n",
    "import matplotlib.pyplot as plt\n",
    "from tqdm import tqdm\n",
    "import numpy as np\n",
    "from sklearn.model_selection import train_test_split\n",
    "from sklearn.metrics import f1_score, precision_score, recall_score, roc_curve, roc_auc_score, confusion_matrix, ConfusionMatrixDisplay, balanced_accuracy_score\n",
    "from sklearn.linear_model import LogisticRegression"
   ]
  },
  {
   "cell_type": "markdown",
   "id": "2cb743c5-b406-4087-8346-d9335cf68fc5",
   "metadata": {},
   "source": [
    "# load data"
   ]
  },
  {
   "cell_type": "code",
   "execution_count": 2,
   "id": "4b9f8d3c-023f-413d-942b-cac0481d7576",
   "metadata": {},
   "outputs": [
    {
     "name": "stdout",
     "output_type": "stream",
     "text": [
      "(4904, 11)\n"
     ]
    },
    {
     "data": {
      "text/html": [
       "<div>\n",
       "<style scoped>\n",
       "    .dataframe tbody tr th:only-of-type {\n",
       "        vertical-align: middle;\n",
       "    }\n",
       "\n",
       "    .dataframe tbody tr th {\n",
       "        vertical-align: top;\n",
       "    }\n",
       "\n",
       "    .dataframe thead th {\n",
       "        text-align: right;\n",
       "    }\n",
       "</style>\n",
       "<table border=\"1\" class=\"dataframe\">\n",
       "  <thead>\n",
       "    <tr style=\"text-align: right;\">\n",
       "      <th></th>\n",
       "      <th>id</th>\n",
       "      <th>is_closed</th>\n",
       "      <th>city</th>\n",
       "      <th>sex</th>\n",
       "      <th>followers_count</th>\n",
       "      <th>schools</th>\n",
       "      <th>schools_years_grad</th>\n",
       "      <th>universities</th>\n",
       "      <th>universities_years_grad</th>\n",
       "      <th>faculties</th>\n",
       "      <th>careers</th>\n",
       "    </tr>\n",
       "  </thead>\n",
       "  <tbody>\n",
       "    <tr>\n",
       "      <th>0</th>\n",
       "      <td>1119</td>\n",
       "      <td>False</td>\n",
       "      <td>2.0</td>\n",
       "      <td>2</td>\n",
       "      <td>1256.0</td>\n",
       "      <td>NaN</td>\n",
       "      <td>NaN</td>\n",
       "      <td>NaN</td>\n",
       "      <td>NaN</td>\n",
       "      <td>NaN</td>\n",
       "      <td>NaN</td>\n",
       "    </tr>\n",
       "    <tr>\n",
       "      <th>1</th>\n",
       "      <td>1127</td>\n",
       "      <td>False</td>\n",
       "      <td>2.0</td>\n",
       "      <td>2</td>\n",
       "      <td>2738.0</td>\n",
       "      <td>['12', '3447', '59']</td>\n",
       "      <td>[2005, None, None]</td>\n",
       "      <td>[53, 53, 53]</td>\n",
       "      <td>[2011, 2014, 2012]</td>\n",
       "      <td>[201, 201, 169574]</td>\n",
       "      <td>[None, None, None, None, None, None, None]</td>\n",
       "    </tr>\n",
       "    <tr>\n",
       "      <th>2</th>\n",
       "      <td>2619</td>\n",
       "      <td>True</td>\n",
       "      <td>2.0</td>\n",
       "      <td>2</td>\n",
       "      <td>NaN</td>\n",
       "      <td>['54', '1319']</td>\n",
       "      <td>[2005, None]</td>\n",
       "      <td>[1, 29, 1]</td>\n",
       "      <td>[2010, 2011, 2013]</td>\n",
       "      <td>[7, 1815, 7]</td>\n",
       "      <td>[]</td>\n",
       "    </tr>\n",
       "    <tr>\n",
       "      <th>3</th>\n",
       "      <td>2767</td>\n",
       "      <td>False</td>\n",
       "      <td>2.0</td>\n",
       "      <td>2</td>\n",
       "      <td>446.0</td>\n",
       "      <td>['12', '6972', '969864']</td>\n",
       "      <td>[2005, 2001, 1996]</td>\n",
       "      <td>[53]</td>\n",
       "      <td>[2011]</td>\n",
       "      <td>[201]</td>\n",
       "      <td>[]</td>\n",
       "    </tr>\n",
       "    <tr>\n",
       "      <th>4</th>\n",
       "      <td>4023</td>\n",
       "      <td>False</td>\n",
       "      <td>2.0</td>\n",
       "      <td>2</td>\n",
       "      <td>462.0</td>\n",
       "      <td>['54054', '11301']</td>\n",
       "      <td>[2002, 2002]</td>\n",
       "      <td>[53, 53]</td>\n",
       "      <td>[2008, 2011]</td>\n",
       "      <td>[202, 208]</td>\n",
       "      <td>[94, 94, None]</td>\n",
       "    </tr>\n",
       "    <tr>\n",
       "      <th>5</th>\n",
       "      <td>18239</td>\n",
       "      <td>False</td>\n",
       "      <td>2.0</td>\n",
       "      <td>2</td>\n",
       "      <td>1887.0</td>\n",
       "      <td>['1739']</td>\n",
       "      <td>[None]</td>\n",
       "      <td>[53]</td>\n",
       "      <td>[None]</td>\n",
       "      <td>[202]</td>\n",
       "      <td>[94, 76139618]</td>\n",
       "    </tr>\n",
       "  </tbody>\n",
       "</table>\n",
       "</div>"
      ],
      "text/plain": [
       "      id  is_closed  city  sex  followers_count                   schools  \\\n",
       "0   1119      False   2.0    2           1256.0                       NaN   \n",
       "1   1127      False   2.0    2           2738.0      ['12', '3447', '59']   \n",
       "2   2619       True   2.0    2              NaN            ['54', '1319']   \n",
       "3   2767      False   2.0    2            446.0  ['12', '6972', '969864']   \n",
       "4   4023      False   2.0    2            462.0        ['54054', '11301']   \n",
       "5  18239      False   2.0    2           1887.0                  ['1739']   \n",
       "\n",
       "   schools_years_grad  universities universities_years_grad  \\\n",
       "0                 NaN           NaN                     NaN   \n",
       "1  [2005, None, None]  [53, 53, 53]      [2011, 2014, 2012]   \n",
       "2        [2005, None]    [1, 29, 1]      [2010, 2011, 2013]   \n",
       "3  [2005, 2001, 1996]          [53]                  [2011]   \n",
       "4        [2002, 2002]      [53, 53]            [2008, 2011]   \n",
       "5              [None]          [53]                  [None]   \n",
       "\n",
       "            faculties                                     careers  \n",
       "0                 NaN                                         NaN  \n",
       "1  [201, 201, 169574]  [None, None, None, None, None, None, None]  \n",
       "2        [7, 1815, 7]                                          []  \n",
       "3               [201]                                          []  \n",
       "4          [202, 208]                              [94, 94, None]  \n",
       "5               [202]                              [94, 76139618]  "
      ]
     },
     "execution_count": 2,
     "metadata": {},
     "output_type": "execute_result"
    }
   ],
   "source": [
    "df_profiles = pd.read_csv('processed/profiles.csv')\n",
    "print(df_profiles.shape)\n",
    "df_profiles.head(6)"
   ]
  },
  {
   "cell_type": "code",
   "execution_count": 3,
   "id": "93adcf3e-3b15-47d1-90e9-c3ec332c23a9",
   "metadata": {},
   "outputs": [
    {
     "name": "stdout",
     "output_type": "stream",
     "text": [
      "(43979, 7)\n"
     ]
    },
    {
     "data": {
      "text/html": [
       "<div>\n",
       "<style scoped>\n",
       "    .dataframe tbody tr th:only-of-type {\n",
       "        vertical-align: middle;\n",
       "    }\n",
       "\n",
       "    .dataframe tbody tr th {\n",
       "        vertical-align: top;\n",
       "    }\n",
       "\n",
       "    .dataframe thead th {\n",
       "        text-align: right;\n",
       "    }\n",
       "</style>\n",
       "<table border=\"1\" class=\"dataframe\">\n",
       "  <thead>\n",
       "    <tr style=\"text-align: right;\">\n",
       "      <th></th>\n",
       "      <th>comments_count</th>\n",
       "      <th>attachments_count</th>\n",
       "      <th>views</th>\n",
       "      <th>likes</th>\n",
       "      <th>author_id</th>\n",
       "      <th>post_type</th>\n",
       "      <th>post_dttm</th>\n",
       "    </tr>\n",
       "  </thead>\n",
       "  <tbody>\n",
       "    <tr>\n",
       "      <th>0</th>\n",
       "      <td>1</td>\n",
       "      <td>0</td>\n",
       "      <td>NaN</td>\n",
       "      <td>0.0</td>\n",
       "      <td>1119</td>\n",
       "      <td>post</td>\n",
       "      <td>1685912400</td>\n",
       "    </tr>\n",
       "    <tr>\n",
       "      <th>1</th>\n",
       "      <td>2</td>\n",
       "      <td>0</td>\n",
       "      <td>1402.0</td>\n",
       "      <td>24.0</td>\n",
       "      <td>1119</td>\n",
       "      <td>post</td>\n",
       "      <td>1664053200</td>\n",
       "    </tr>\n",
       "    <tr>\n",
       "      <th>2</th>\n",
       "      <td>3</td>\n",
       "      <td>0</td>\n",
       "      <td>852.0</td>\n",
       "      <td>8.0</td>\n",
       "      <td>1119</td>\n",
       "      <td>post</td>\n",
       "      <td>1647205200</td>\n",
       "    </tr>\n",
       "    <tr>\n",
       "      <th>3</th>\n",
       "      <td>7</td>\n",
       "      <td>1</td>\n",
       "      <td>1390.0</td>\n",
       "      <td>24.0</td>\n",
       "      <td>1119</td>\n",
       "      <td>post</td>\n",
       "      <td>1630702800</td>\n",
       "    </tr>\n",
       "    <tr>\n",
       "      <th>4</th>\n",
       "      <td>7</td>\n",
       "      <td>2</td>\n",
       "      <td>1819.0</td>\n",
       "      <td>14.0</td>\n",
       "      <td>1119</td>\n",
       "      <td>post</td>\n",
       "      <td>1612299600</td>\n",
       "    </tr>\n",
       "    <tr>\n",
       "      <th>5</th>\n",
       "      <td>3</td>\n",
       "      <td>0</td>\n",
       "      <td>741.0</td>\n",
       "      <td>9.0</td>\n",
       "      <td>1119</td>\n",
       "      <td>post</td>\n",
       "      <td>1611090000</td>\n",
       "    </tr>\n",
       "  </tbody>\n",
       "</table>\n",
       "</div>"
      ],
      "text/plain": [
       "   comments_count  attachments_count   views  likes  author_id post_type  \\\n",
       "0               1                  0     NaN    0.0       1119      post   \n",
       "1               2                  0  1402.0   24.0       1119      post   \n",
       "2               3                  0   852.0    8.0       1119      post   \n",
       "3               7                  1  1390.0   24.0       1119      post   \n",
       "4               7                  2  1819.0   14.0       1119      post   \n",
       "5               3                  0   741.0    9.0       1119      post   \n",
       "\n",
       "    post_dttm  \n",
       "0  1685912400  \n",
       "1  1664053200  \n",
       "2  1647205200  \n",
       "3  1630702800  \n",
       "4  1612299600  \n",
       "5  1611090000  "
      ]
     },
     "execution_count": 3,
     "metadata": {},
     "output_type": "execute_result"
    }
   ],
   "source": [
    "df_posts = pd.read_csv('processed/posts.csv')\n",
    "print(df_posts.shape)\n",
    "df_posts.head(6)"
   ]
  },
  {
   "cell_type": "code",
   "execution_count": 4,
   "id": "aa23e685-c3f8-4208-b156-4527fd73e12d",
   "metadata": {},
   "outputs": [
    {
     "name": "stdout",
     "output_type": "stream",
     "text": [
      "(953179, 2)\n"
     ]
    },
    {
     "data": {
      "text/html": [
       "<div>\n",
       "<style scoped>\n",
       "    .dataframe tbody tr th:only-of-type {\n",
       "        vertical-align: middle;\n",
       "    }\n",
       "\n",
       "    .dataframe tbody tr th {\n",
       "        vertical-align: top;\n",
       "    }\n",
       "\n",
       "    .dataframe thead th {\n",
       "        text-align: right;\n",
       "    }\n",
       "</style>\n",
       "<table border=\"1\" class=\"dataframe\">\n",
       "  <thead>\n",
       "    <tr style=\"text-align: right;\">\n",
       "      <th></th>\n",
       "      <th>user1</th>\n",
       "      <th>user2</th>\n",
       "    </tr>\n",
       "  </thead>\n",
       "  <tbody>\n",
       "    <tr>\n",
       "      <th>0</th>\n",
       "      <td>1119</td>\n",
       "      <td>9216</td>\n",
       "    </tr>\n",
       "    <tr>\n",
       "      <th>1</th>\n",
       "      <td>1119</td>\n",
       "      <td>3580931</td>\n",
       "    </tr>\n",
       "    <tr>\n",
       "      <th>2</th>\n",
       "      <td>1119</td>\n",
       "      <td>6055941</td>\n",
       "    </tr>\n",
       "  </tbody>\n",
       "</table>\n",
       "</div>"
      ],
      "text/plain": [
       "   user1    user2\n",
       "0   1119     9216\n",
       "1   1119  3580931\n",
       "2   1119  6055941"
      ]
     },
     "execution_count": 4,
     "metadata": {},
     "output_type": "execute_result"
    }
   ],
   "source": [
    "df_friends = pd.read_csv('processed/friends.csv')\n",
    "print(df_friends.shape)\n",
    "df_friends.head(3)"
   ]
  },
  {
   "cell_type": "markdown",
   "id": "22103eff-5854-4aa1-b240-2460e44a71e8",
   "metadata": {},
   "source": [
    "# make features"
   ]
  },
  {
   "cell_type": "code",
   "execution_count": 5,
   "id": "aaff85f5-b39d-4c6e-b126-0dbe161b49a7",
   "metadata": {},
   "outputs": [],
   "source": [
    "user2friends = df_friends.groupby('user1').user2.apply(set).to_dict()"
   ]
  },
  {
   "cell_type": "code",
   "execution_count": 6,
   "id": "9c40f764-4c50-4e2d-b5a2-608b1c0ee367",
   "metadata": {},
   "outputs": [],
   "source": [
    "def calc_feature(user1: int, user2: int) -> float:\n",
    "    return np.random.random()"
   ]
  },
  {
   "cell_type": "code",
   "execution_count": 7,
   "id": "e3f2c07d-b345-43e0-a0af-01ed059f7735",
   "metadata": {},
   "outputs": [
    {
     "name": "stderr",
     "output_type": "stream",
     "text": [
      "100%|█████████████████████████████████████████████████████████████████████████████████████████████████████████████████████████| 3759/3759 [00:03<00:00, 973.25it/s]\n"
     ]
    }
   ],
   "source": [
    "records = []\n",
    "users = sorted(set(df_friends.user1.tolist()))\n",
    "for i, u1 in tqdm(enumerate(users), total=len(users)):\n",
    "    for j, u2 in enumerate(users):\n",
    "        if j <= i: \n",
    "            continue\n",
    "        records.append((\n",
    "            u1, \n",
    "            u2,\n",
    "            calc_feature(u1, u2)\n",
    "        ))\n",
    "        \n",
    "df = pd.DataFrame(records, columns=['user1', 'user2', 'your_feature_name'])"
   ]
  },
  {
   "cell_type": "code",
   "execution_count": 8,
   "id": "fcd07609-b124-41fb-8dbd-146cebee8533",
   "metadata": {},
   "outputs": [
    {
     "name": "stdout",
     "output_type": "stream",
     "text": [
      "7063161\n"
     ]
    },
    {
     "data": {
      "text/html": [
       "<div>\n",
       "<style scoped>\n",
       "    .dataframe tbody tr th:only-of-type {\n",
       "        vertical-align: middle;\n",
       "    }\n",
       "\n",
       "    .dataframe tbody tr th {\n",
       "        vertical-align: top;\n",
       "    }\n",
       "\n",
       "    .dataframe thead th {\n",
       "        text-align: right;\n",
       "    }\n",
       "</style>\n",
       "<table border=\"1\" class=\"dataframe\">\n",
       "  <thead>\n",
       "    <tr style=\"text-align: right;\">\n",
       "      <th></th>\n",
       "      <th>user1</th>\n",
       "      <th>user2</th>\n",
       "      <th>your_feature_name</th>\n",
       "    </tr>\n",
       "  </thead>\n",
       "  <tbody>\n",
       "    <tr>\n",
       "      <th>0</th>\n",
       "      <td>1119</td>\n",
       "      <td>1127</td>\n",
       "      <td>0.860916</td>\n",
       "    </tr>\n",
       "    <tr>\n",
       "      <th>1</th>\n",
       "      <td>1119</td>\n",
       "      <td>2619</td>\n",
       "      <td>0.018310</td>\n",
       "    </tr>\n",
       "    <tr>\n",
       "      <th>2</th>\n",
       "      <td>1119</td>\n",
       "      <td>2767</td>\n",
       "      <td>0.652498</td>\n",
       "    </tr>\n",
       "  </tbody>\n",
       "</table>\n",
       "</div>"
      ],
      "text/plain": [
       "   user1  user2  your_feature_name\n",
       "0   1119   1127           0.860916\n",
       "1   1119   2619           0.018310\n",
       "2   1119   2767           0.652498"
      ]
     },
     "execution_count": 8,
     "metadata": {},
     "output_type": "execute_result"
    }
   ],
   "source": [
    "print(len(df))\n",
    "df.head(3)"
   ]
  },
  {
   "cell_type": "markdown",
   "id": "e53bfcbd-732e-42d0-b2b5-a0b2e4d894d1",
   "metadata": {},
   "source": [
    "# evaluate model"
   ]
  },
  {
   "cell_type": "code",
   "execution_count": 9,
   "id": "826c2ee3-158e-4577-bd0c-edec3ae8e2dd",
   "metadata": {},
   "outputs": [
    {
     "data": {
      "text/plain": [
       "(6356754, 706407)"
      ]
     },
     "execution_count": 9,
     "metadata": {},
     "output_type": "execute_result"
    }
   ],
   "source": [
    "links_train = pd.read_csv('processed/links_train.csv')\n",
    "links_test = pd.read_csv('processed/links_test.csv')\n",
    "\n",
    "len(links_train), len(links_test)"
   ]
  },
  {
   "cell_type": "code",
   "execution_count": 10,
   "id": "cb5a4873-cd62-479e-bd63-1a7f817a3da4",
   "metadata": {},
   "outputs": [
    {
     "name": "stdout",
     "output_type": "stream",
     "text": [
      "6356754\n"
     ]
    },
    {
     "data": {
      "text/html": [
       "<div>\n",
       "<style scoped>\n",
       "    .dataframe tbody tr th:only-of-type {\n",
       "        vertical-align: middle;\n",
       "    }\n",
       "\n",
       "    .dataframe tbody tr th {\n",
       "        vertical-align: top;\n",
       "    }\n",
       "\n",
       "    .dataframe thead th {\n",
       "        text-align: right;\n",
       "    }\n",
       "</style>\n",
       "<table border=\"1\" class=\"dataframe\">\n",
       "  <thead>\n",
       "    <tr style=\"text-align: right;\">\n",
       "      <th></th>\n",
       "      <th>user1</th>\n",
       "      <th>user2</th>\n",
       "      <th>is_friends</th>\n",
       "      <th>your_feature_name</th>\n",
       "    </tr>\n",
       "  </thead>\n",
       "  <tbody>\n",
       "    <tr>\n",
       "      <th>0</th>\n",
       "      <td>82530889</td>\n",
       "      <td>157814259</td>\n",
       "      <td>0</td>\n",
       "      <td>0.795680</td>\n",
       "    </tr>\n",
       "    <tr>\n",
       "      <th>1</th>\n",
       "      <td>104274145</td>\n",
       "      <td>669799766</td>\n",
       "      <td>0</td>\n",
       "      <td>0.985787</td>\n",
       "    </tr>\n",
       "    <tr>\n",
       "      <th>2</th>\n",
       "      <td>227438304</td>\n",
       "      <td>268462283</td>\n",
       "      <td>0</td>\n",
       "      <td>0.158391</td>\n",
       "    </tr>\n",
       "  </tbody>\n",
       "</table>\n",
       "</div>"
      ],
      "text/plain": [
       "       user1      user2  is_friends  your_feature_name\n",
       "0   82530889  157814259           0           0.795680\n",
       "1  104274145  669799766           0           0.985787\n",
       "2  227438304  268462283           0           0.158391"
      ]
     },
     "execution_count": 10,
     "metadata": {},
     "output_type": "execute_result"
    }
   ],
   "source": [
    "train = links_train.merge(df, on=['user1', 'user2'], how='inner')\n",
    "print(len(train))\n",
    "train.head(3)"
   ]
  },
  {
   "cell_type": "code",
   "execution_count": 11,
   "id": "66bfd55f-748d-4eac-8b43-61e646778b25",
   "metadata": {},
   "outputs": [],
   "source": [
    "train, valid = train_test_split(train, test_size=0.2, stratify=train.is_friends)"
   ]
  },
  {
   "cell_type": "code",
   "execution_count": 12,
   "id": "7dfa837b-a5a5-4080-84d5-693c8c19ff2a",
   "metadata": {},
   "outputs": [
    {
     "name": "stdout",
     "output_type": "stream",
     "text": [
      "706407\n"
     ]
    },
    {
     "data": {
      "text/html": [
       "<div>\n",
       "<style scoped>\n",
       "    .dataframe tbody tr th:only-of-type {\n",
       "        vertical-align: middle;\n",
       "    }\n",
       "\n",
       "    .dataframe tbody tr th {\n",
       "        vertical-align: top;\n",
       "    }\n",
       "\n",
       "    .dataframe thead th {\n",
       "        text-align: right;\n",
       "    }\n",
       "</style>\n",
       "<table border=\"1\" class=\"dataframe\">\n",
       "  <thead>\n",
       "    <tr style=\"text-align: right;\">\n",
       "      <th></th>\n",
       "      <th>ID</th>\n",
       "      <th>user1</th>\n",
       "      <th>user2</th>\n",
       "      <th>your_feature_name</th>\n",
       "    </tr>\n",
       "  </thead>\n",
       "  <tbody>\n",
       "    <tr>\n",
       "      <th>0</th>\n",
       "      <td>0</td>\n",
       "      <td>426512423</td>\n",
       "      <td>767230291</td>\n",
       "      <td>0.209695</td>\n",
       "    </tr>\n",
       "    <tr>\n",
       "      <th>1</th>\n",
       "      <td>1</td>\n",
       "      <td>127744839</td>\n",
       "      <td>589283004</td>\n",
       "      <td>0.083597</td>\n",
       "    </tr>\n",
       "    <tr>\n",
       "      <th>2</th>\n",
       "      <td>2</td>\n",
       "      <td>76324543</td>\n",
       "      <td>189101836</td>\n",
       "      <td>0.123471</td>\n",
       "    </tr>\n",
       "  </tbody>\n",
       "</table>\n",
       "</div>"
      ],
      "text/plain": [
       "   ID      user1      user2  your_feature_name\n",
       "0   0  426512423  767230291           0.209695\n",
       "1   1  127744839  589283004           0.083597\n",
       "2   2   76324543  189101836           0.123471"
      ]
     },
     "execution_count": 12,
     "metadata": {},
     "output_type": "execute_result"
    }
   ],
   "source": [
    "test = links_test.merge(df, on=['user1', 'user2'], how='inner')\n",
    "print(len(test))\n",
    "test.head(3)"
   ]
  },
  {
   "cell_type": "code",
   "execution_count": 13,
   "id": "9fd0e899-3dba-45cb-962a-4758d48fbb38",
   "metadata": {},
   "outputs": [],
   "source": [
    "features = [\n",
    "    'your_feature_name'\n",
    "]\n",
    "target = 'is_friends'"
   ]
  },
  {
   "cell_type": "code",
   "execution_count": 14,
   "id": "b7243202-1819-49ca-9b7f-45ee6a362c94",
   "metadata": {},
   "outputs": [],
   "source": [
    "model = LogisticRegression()\n",
    "model = model.fit(train[features], train[target])\n",
    "\n",
    "preds_train = model.predict_proba(train[features])\n",
    "gt_train = train[target]\n",
    "\n",
    "preds_valid = model.predict_proba(valid[features])\n",
    "gt_valid = valid[target]"
   ]
  },
  {
   "cell_type": "code",
   "execution_count": 15,
   "id": "07417121-83ac-4bfb-9f3d-c8944bd797f5",
   "metadata": {},
   "outputs": [
    {
     "data": {
      "text/plain": [
       "0.5"
      ]
     },
     "execution_count": 15,
     "metadata": {},
     "output_type": "execute_result"
    }
   ],
   "source": [
    "balanced_accuracy_score(gt_train, preds_train.argmax(axis=1))"
   ]
  },
  {
   "cell_type": "markdown",
   "id": "4c3ad1af-6996-4e14-b8e4-5fec35266a4c",
   "metadata": {},
   "source": [
    "# calc metrics"
   ]
  },
  {
   "cell_type": "code",
   "execution_count": 16,
   "id": "e3da26f1-bd5d-4d6f-8381-de11b5d6928c",
   "metadata": {},
   "outputs": [
    {
     "name": "stderr",
     "output_type": "stream",
     "text": [
      "/Users/i.shamov/Library/Python/3.9/lib/python/site-packages/sklearn/metrics/_classification.py:1469: UndefinedMetricWarning: Precision is ill-defined and being set to 0.0 due to no predicted samples. Use `zero_division` parameter to control this behavior.\n",
      "  _warn_prf(average, modifier, msg_start, len(result))\n",
      "/Users/i.shamov/Library/Python/3.9/lib/python/site-packages/sklearn/metrics/_classification.py:1469: UndefinedMetricWarning: Precision is ill-defined and being set to 0.0 due to no predicted samples. Use `zero_division` parameter to control this behavior.\n",
      "  _warn_prf(average, modifier, msg_start, len(result))\n"
     ]
    },
    {
     "name": "stdout",
     "output_type": "stream",
     "text": [
      "prec train: 0.000 valid: 0.000\n",
      "recall train: 0.000 valid: 0.000\n",
      "f1 train: 0.000 valid: 0.000\n",
      "roc auc train: 0.503 valid: 0.501\n",
      "\n",
      "balanced acc train: 0.500 valid: 0.500\n"
     ]
    },
    {
     "data": {
      "image/png": "[encoded data removed]",
      "text/plain": [
       "<Figure size 640x480 with 1 Axes>"
      ]
     },
     "metadata": {},
     "output_type": "display_data"
    }
   ],
   "source": [
    "# params = dict(average='weighted')\n",
    "params = dict()\n",
    "\n",
    "print(f'prec train: {precision_score(gt_train, preds_train.argmax(axis=1), **params):.3f} valid: {precision_score(gt_valid, preds_valid.argmax(axis=1), **params):.3f}')\n",
    "print(f'recall train: {recall_score(gt_train, preds_train.argmax(axis=1), **params):.3f} valid: {recall_score(gt_valid, preds_valid.argmax(axis=1), **params):.3f}')\n",
    "print(f'f1 train: {f1_score(gt_train, preds_train.argmax(axis=1), **params):.3f} valid: {f1_score(gt_valid, preds_valid.argmax(axis=1), **params):.3f}')\n",
    "print(f'roc auc train: {roc_auc_score(gt_train, preds_train[:, 1], **params):.3f} valid: {roc_auc_score(gt_valid, preds_valid[:, 1], **params):.3f}')\n",
    "\n",
    "print(f'\\nbalanced acc train: {balanced_accuracy_score(gt_train, preds_train.argmax(axis=1)):.3f} valid: {balanced_accuracy_score(gt_valid, preds_valid.argmax(axis=1)):.3f}')\n",
    "\n",
    "fpr, tpr, tr = roc_curve(valid[target], preds_valid[:, 1])\n",
    "_ = plt.plot(fpr, tpr)\n",
    "_ = plt.plot((0, 1), (0, 1))"
   ]
  },
  {
   "cell_type": "code",
   "execution_count": 17,
   "id": "774949fe-824f-4ba7-901e-618a35f3a372",
   "metadata": {},
   "outputs": [
    {
     "data": {
      "text/plain": [
       "<sklearn.metrics._plot.confusion_matrix.ConfusionMatrixDisplay at 0x16871bd60>"
      ]
     },
     "execution_count": 17,
     "metadata": {},
     "output_type": "execute_result"
    },
    {
     "data": {
      "image/png": "[encoded data removed]",
      "text/plain": [
       "<Figure size 640x480 with 2 Axes>"
      ]
     },
     "metadata": {},
     "output_type": "display_data"
    }
   ],
   "source": [
    "ConfusionMatrixDisplay(confusion_matrix(valid[target], preds_valid.argmax(axis=1))).plot()"
   ]
  },
  {
   "cell_type": "markdown",
   "id": "63b86b12-a0e4-452a-8882-bba932c661f6",
   "metadata": {},
   "source": [
    "# make solution"
   ]
  },
  {
   "cell_type": "code",
   "execution_count": 18,
   "id": "0fdaa961-2304-47f2-9c83-c33a02824448",
   "metadata": {},
   "outputs": [
    {
     "name": "stdout",
     "output_type": "stream",
     "text": [
      "friends percentage:  0.0\n"
     ]
    }
   ],
   "source": [
    "test_pred = model.predict_proba(test[features]).argmax(axis=1)\n",
    "print('friends percentage: ', sum(test_pred) / len(test_pred))"
   ]
  },
  {
   "cell_type": "code",
   "execution_count": 19,
   "id": "09fc732a-a6a6-46d5-a16c-879b4f32bb74",
   "metadata": {},
   "outputs": [],
   "source": [
    "test_pred = test[['user1', 'user2']].assign(is_friends=test_pred)\n",
    "test_pred.assign(ID=list(range(len(test_pred))))[['ID', 'is_friends']].to_csv('pred.csv', index=False)"
   ]
  },
  {
   "cell_type": "code",
   "execution_count": null,
   "id": "bdbdce89-91d6-4257-bb90-3b2f8fa674b2",
   "metadata": {},
   "outputs": [],
   "source": []
  }
 ],
 "metadata": {
  "kernelspec": {
   "display_name": "Python 3 (ipykernel)",
   "language": "python",
   "name": "python3"
  },
  "language_info": {
   "codemirror_mode": {
    "name": "ipython",
    "version": 3
   },
   "file_extension": ".py",
   "mimetype": "text/x-python",
   "name": "python",
   "nbconvert_exporter": "python",
   "pygments_lexer": "ipython3",
   "version": "3.9.6"
  }
 },
 "nbformat": 4,
 "nbformat_minor": 5
}
